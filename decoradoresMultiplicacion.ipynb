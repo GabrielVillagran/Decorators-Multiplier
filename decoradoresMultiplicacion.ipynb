{
  "nbformat": 4,
  "nbformat_minor": 0,
  "metadata": {
    "colab": {
      "name": "decoradoresMultiplicacion.ipynb",
      "provenance": [],
      "authorship_tag": "ABX9TyO9BLS9a69zF6ZDX88e51ss",
      "include_colab_link": true
    },
    "kernelspec": {
      "name": "python3",
      "display_name": "Python 3"
    },
    "language_info": {
      "name": "python"
    }
  },
  "cells": [
    {
      "cell_type": "markdown",
      "metadata": {
        "id": "view-in-github",
        "colab_type": "text"
      },
      "source": [
        "<a href=\"https://colab.research.google.com/github/Villagran29A/Decorators-Multiplier/blob/main/decoradoresMultiplicacion.ipynb\" target=\"_parent\"><img src=\"https://colab.research.google.com/assets/colab-badge.svg\" alt=\"Open In Colab\"/></a>"
      ]
    },
    {
      "cell_type": "code",
      "metadata": {
        "id": "qYK_3o6pcGj_"
      },
      "source": [
        "def funcion_decoradora(funcion):\n",
        "  def nuevas_funciones(*args, **kwargs):\n",
        "    print(\"antes de multiplicar\")\n",
        "    resultado = funcion(*args, **kwargs)\n",
        "    print(resultado)\n",
        "    print(\"despues de multiplicar\")\n",
        "  return nuevas_funciones"
      ],
      "execution_count": null,
      "outputs": []
    },
    {
      "cell_type": "code",
      "metadata": {
        "id": "8PDKIhS_cd7X"
      },
      "source": [
        "@funcion_decoradora\n",
        "def multiplicar(num, num2):\n",
        "  return num * num2"
      ],
      "execution_count": null,
      "outputs": []
    },
    {
      "cell_type": "code",
      "metadata": {
        "colab": {
          "base_uri": "https://localhost:8080/"
        },
        "id": "wKXIzJ9-ciuw",
        "outputId": "0263d13d-08d3-4442-e3b2-43852cd87b26"
      },
      "source": [
        "multiplicar(20, 3)"
      ],
      "execution_count": null,
      "outputs": [
        {
          "output_type": "stream",
          "text": [
            "antes de multiplicar\n",
            "60\n",
            "despues de multiplicar\n"
          ],
          "name": "stdout"
        }
      ]
    }
  ]
}